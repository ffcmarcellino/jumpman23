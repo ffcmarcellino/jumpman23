{
 "cells": [
  {
   "cell_type": "markdown",
   "metadata": {},
   "source": [
    "# Delivery Business - An overview of the NYC market"
   ]
  },
  {
   "cell_type": "code",
   "execution_count": 1,
   "metadata": {},
   "outputs": [],
   "source": [
    "import pandas as pd"
   ]
  },
  {
   "cell_type": "markdown",
   "metadata": {},
   "source": [
    "In this report, I'll analyze data on the operations of Jumpman23, a fictitious business that operates in the New York City market. First, I'll get the overall picture of the market and then I'll deep dive into 3 topics: Customer Experience, Jumpmen efficiency and Logistics."
   ]
  },
  {
   "cell_type": "code",
   "execution_count": 2,
   "metadata": {},
   "outputs": [
    {
     "data": {
      "text/html": [
       "<div>\n",
       "<style scoped>\n",
       "    .dataframe tbody tr th:only-of-type {\n",
       "        vertical-align: middle;\n",
       "    }\n",
       "\n",
       "    .dataframe tbody tr th {\n",
       "        vertical-align: top;\n",
       "    }\n",
       "\n",
       "    .dataframe thead th {\n",
       "        text-align: right;\n",
       "    }\n",
       "</style>\n",
       "<table border=\"1\" class=\"dataframe\">\n",
       "  <thead>\n",
       "    <tr style=\"text-align: right;\">\n",
       "      <th></th>\n",
       "      <th>delivery_id</th>\n",
       "      <th>customer_id</th>\n",
       "      <th>jumpman_id</th>\n",
       "      <th>vehicle_type</th>\n",
       "      <th>pickup_place</th>\n",
       "      <th>place_category</th>\n",
       "      <th>item_name</th>\n",
       "      <th>item_quantity</th>\n",
       "      <th>item_category_name</th>\n",
       "      <th>how_long_it_took_to_order</th>\n",
       "      <th>pickup_lat</th>\n",
       "      <th>pickup_lon</th>\n",
       "      <th>dropoff_lat</th>\n",
       "      <th>dropoff_lon</th>\n",
       "      <th>when_the_delivery_started</th>\n",
       "      <th>when_the_Jumpman_arrived_at_pickup</th>\n",
       "      <th>when_the_Jumpman_left_pickup</th>\n",
       "      <th>when_the_Jumpman_arrived_at_dropoff</th>\n",
       "    </tr>\n",
       "  </thead>\n",
       "  <tbody>\n",
       "    <tr>\n",
       "      <th>0</th>\n",
       "      <td>1457973</td>\n",
       "      <td>327168</td>\n",
       "      <td>162381</td>\n",
       "      <td>van</td>\n",
       "      <td>Melt Shop</td>\n",
       "      <td>American</td>\n",
       "      <td>Lemonade</td>\n",
       "      <td>1.0</td>\n",
       "      <td>Beverages</td>\n",
       "      <td>00:19:58.582052</td>\n",
       "      <td>40.744607</td>\n",
       "      <td>-73.990742</td>\n",
       "      <td>40.752073</td>\n",
       "      <td>-73.985370</td>\n",
       "      <td>2014-10-26 13:51:59.898924</td>\n",
       "      <td>NaN</td>\n",
       "      <td>NaN</td>\n",
       "      <td>2014-10-26 14:52:06.313088</td>\n",
       "    </tr>\n",
       "    <tr>\n",
       "      <th>1</th>\n",
       "      <td>1377056</td>\n",
       "      <td>64452</td>\n",
       "      <td>104533</td>\n",
       "      <td>bicycle</td>\n",
       "      <td>Prince Street Pizza</td>\n",
       "      <td>Pizza</td>\n",
       "      <td>Neapolitan Rice Balls</td>\n",
       "      <td>3.0</td>\n",
       "      <td>Munchables</td>\n",
       "      <td>00:25:09.107093</td>\n",
       "      <td>40.723080</td>\n",
       "      <td>-73.994615</td>\n",
       "      <td>40.719722</td>\n",
       "      <td>-73.991858</td>\n",
       "      <td>2014-10-16 21:58:58.65491</td>\n",
       "      <td>2014-10-16 22:26:02.120931</td>\n",
       "      <td>2014-10-16 22:48:23.091253</td>\n",
       "      <td>2014-10-16 22:59:22.948873</td>\n",
       "    </tr>\n",
       "    <tr>\n",
       "      <th>2</th>\n",
       "      <td>1476547</td>\n",
       "      <td>83095</td>\n",
       "      <td>132725</td>\n",
       "      <td>bicycle</td>\n",
       "      <td>Bareburger</td>\n",
       "      <td>Burger</td>\n",
       "      <td>Bare Sodas</td>\n",
       "      <td>1.0</td>\n",
       "      <td>Drinks</td>\n",
       "      <td>00:06:44.541717</td>\n",
       "      <td>40.728478</td>\n",
       "      <td>-73.998392</td>\n",
       "      <td>40.728606</td>\n",
       "      <td>-73.995143</td>\n",
       "      <td>2014-10-28 21:39:52.654394</td>\n",
       "      <td>2014-10-28 21:37:18.793405</td>\n",
       "      <td>2014-10-28 21:59:09.98481</td>\n",
       "      <td>2014-10-28 22:04:40.634962</td>\n",
       "    </tr>\n",
       "    <tr>\n",
       "      <th>3</th>\n",
       "      <td>1485494</td>\n",
       "      <td>271149</td>\n",
       "      <td>157175</td>\n",
       "      <td>bicycle</td>\n",
       "      <td>Juice Press</td>\n",
       "      <td>Juice Bar</td>\n",
       "      <td>OMG! My Favorite Juice!</td>\n",
       "      <td>1.0</td>\n",
       "      <td>Cold Pressed Juices</td>\n",
       "      <td>NaN</td>\n",
       "      <td>40.738868</td>\n",
       "      <td>-74.002747</td>\n",
       "      <td>40.751257</td>\n",
       "      <td>-74.005634</td>\n",
       "      <td>2014-10-30 10:54:11.531894</td>\n",
       "      <td>2014-10-30 11:04:17.759577</td>\n",
       "      <td>2014-10-30 11:16:37.895816</td>\n",
       "      <td>2014-10-30 11:32:38.090061</td>\n",
       "    </tr>\n",
       "    <tr>\n",
       "      <th>4</th>\n",
       "      <td>1327707</td>\n",
       "      <td>122609</td>\n",
       "      <td>118095</td>\n",
       "      <td>bicycle</td>\n",
       "      <td>Blue Ribbon Sushi</td>\n",
       "      <td>Japanese</td>\n",
       "      <td>Spicy Tuna &amp; Tempura Flakes</td>\n",
       "      <td>2.0</td>\n",
       "      <td>Maki (Special Rolls)</td>\n",
       "      <td>00:03:45.035418</td>\n",
       "      <td>40.726110</td>\n",
       "      <td>-74.002492</td>\n",
       "      <td>40.709323</td>\n",
       "      <td>-74.015867</td>\n",
       "      <td>2014-10-10 00:07:18.450505</td>\n",
       "      <td>2014-10-10 00:14:42.702223</td>\n",
       "      <td>2014-10-10 00:25:19.400294</td>\n",
       "      <td>2014-10-10 00:48:27.150595</td>\n",
       "    </tr>\n",
       "  </tbody>\n",
       "</table>\n",
       "</div>"
      ],
      "text/plain": [
       "   delivery_id  customer_id  jumpman_id vehicle_type         pickup_place  \\\n",
       "0      1457973       327168      162381          van            Melt Shop   \n",
       "1      1377056        64452      104533      bicycle  Prince Street Pizza   \n",
       "2      1476547        83095      132725      bicycle           Bareburger   \n",
       "3      1485494       271149      157175      bicycle          Juice Press   \n",
       "4      1327707       122609      118095      bicycle    Blue Ribbon Sushi   \n",
       "\n",
       "  place_category                    item_name  item_quantity  \\\n",
       "0       American                     Lemonade            1.0   \n",
       "1          Pizza        Neapolitan Rice Balls            3.0   \n",
       "2         Burger                   Bare Sodas            1.0   \n",
       "3      Juice Bar      OMG! My Favorite Juice!            1.0   \n",
       "4       Japanese  Spicy Tuna & Tempura Flakes            2.0   \n",
       "\n",
       "     item_category_name how_long_it_took_to_order  pickup_lat  pickup_lon  \\\n",
       "0             Beverages           00:19:58.582052   40.744607  -73.990742   \n",
       "1            Munchables           00:25:09.107093   40.723080  -73.994615   \n",
       "2                Drinks           00:06:44.541717   40.728478  -73.998392   \n",
       "3   Cold Pressed Juices                       NaN   40.738868  -74.002747   \n",
       "4  Maki (Special Rolls)           00:03:45.035418   40.726110  -74.002492   \n",
       "\n",
       "   dropoff_lat  dropoff_lon   when_the_delivery_started  \\\n",
       "0    40.752073   -73.985370  2014-10-26 13:51:59.898924   \n",
       "1    40.719722   -73.991858   2014-10-16 21:58:58.65491   \n",
       "2    40.728606   -73.995143  2014-10-28 21:39:52.654394   \n",
       "3    40.751257   -74.005634  2014-10-30 10:54:11.531894   \n",
       "4    40.709323   -74.015867  2014-10-10 00:07:18.450505   \n",
       "\n",
       "  when_the_Jumpman_arrived_at_pickup when_the_Jumpman_left_pickup  \\\n",
       "0                                NaN                          NaN   \n",
       "1         2014-10-16 22:26:02.120931   2014-10-16 22:48:23.091253   \n",
       "2         2014-10-28 21:37:18.793405    2014-10-28 21:59:09.98481   \n",
       "3         2014-10-30 11:04:17.759577   2014-10-30 11:16:37.895816   \n",
       "4         2014-10-10 00:14:42.702223   2014-10-10 00:25:19.400294   \n",
       "\n",
       "  when_the_Jumpman_arrived_at_dropoff  \n",
       "0          2014-10-26 14:52:06.313088  \n",
       "1          2014-10-16 22:59:22.948873  \n",
       "2          2014-10-28 22:04:40.634962  \n",
       "3          2014-10-30 11:32:38.090061  \n",
       "4          2014-10-10 00:48:27.150595  "
      ]
     },
     "execution_count": 2,
     "metadata": {},
     "output_type": "execute_result"
    }
   ],
   "source": [
    "df = pd.read_csv(\"analyze_me.csv\")\n",
    "df.head()"
   ]
  },
  {
   "cell_type": "markdown",
   "metadata": {},
   "source": [
    "## Overall picture"
   ]
  },
  {
   "cell_type": "code",
   "execution_count": 3,
   "metadata": {},
   "outputs": [],
   "source": [
    "from datetime import datetime as dt\n",
    "from matplotlib import pyplot as plt\n",
    "import folium\n",
    "from folium.plugins import HeatMap"
   ]
  },
  {
   "cell_type": "code",
   "execution_count": 4,
   "metadata": {
    "scrolled": true
   },
   "outputs": [
    {
     "name": "stdout",
     "output_type": "stream",
     "text": [
      "Average number of deliveries per day: 173.8\n"
     ]
    },
    {
     "data": {
      "image/png": "[encoded data removed]",
      "text/plain": [
       "<Figure size 432x288 with 1 Axes>"
      ]
     },
     "metadata": {
      "needs_background": "light"
     },
     "output_type": "display_data"
    }
   ],
   "source": [
    "df[\"delivery_date\"] = df.when_the_delivery_started.str.slice(0,10)\n",
    "df.delivery_date = df.delivery_date.apply(lambda date: dt.strptime(date, '%Y-%m-%d'))\n",
    "\n",
    "num_deliveries = df[[\"delivery_id\", \"delivery_date\"]].groupby(\"delivery_date\").nunique()\n",
    "num_deliveries.columns = [\"delivery_id\", \"temp\"]\n",
    "\n",
    "ax = plt.plot(num_deliveries.delivery_id)\n",
    "ax = plt.xticks(rotation=45)\n",
    "ax = plt.title(\"Number of deliveries in October, 2014\")\n",
    "print(\"Average number of deliveries per day: \" + str(num_deliveries.delivery_id.mean()))"
   ]
  },
  {
   "cell_type": "code",
   "execution_count": 5,
   "metadata": {},
   "outputs": [
    {
     "data": {
      "text/plain": [
       "count     30.000000\n",
       "mean     173.800000\n",
       "std       31.700538\n",
       "min      138.000000\n",
       "25%      153.250000\n",
       "50%      163.500000\n",
       "75%      183.500000\n",
       "max      265.000000\n",
       "Name: delivery_id, dtype: float64"
      ]
     },
     "execution_count": 5,
     "metadata": {},
     "output_type": "execute_result"
    }
   ],
   "source": [
    "num_deliveries.delivery_id.describe()"
   ]
  },
  {
   "cell_type": "markdown",
   "metadata": {},
   "source": [
    "The number of deliveries in NYC lied between **138 and 265**, with an **average of 173.8 deliveries per day**. One month of data is not enough time to spot any long term growth trend, but it would be useful to compare this number to past data of other cities that Jumpman23 entered."
   ]
  },
  {
   "cell_type": "markdown",
   "metadata": {},
   "source": [
    "Furthermore, we can see a cycle in the data. Let's explore it."
   ]
  },
  {
   "cell_type": "code",
   "execution_count": 6,
   "metadata": {},
   "outputs": [
    {
     "data": {
      "image/png": "[encoded data removed]",
      "text/plain": [
       "<Figure size 432x288 with 1 Axes>"
      ]
     },
     "metadata": {
      "needs_background": "light"
     },
     "output_type": "display_data"
    }
   ],
   "source": [
    "num_deliveries.reset_index(inplace=True)\n",
    "num_deliveries[\"delivery_weekday\"] = num_deliveries.delivery_date.apply(lambda x: x.weekday())\n",
    "\n",
    "weekday_deliveries = num_deliveries[[\"delivery_id\", \"delivery_weekday\"]].groupby(\"delivery_weekday\").delivery_id.sum()\n",
    "\n",
    "ax = plt.plot(weekday_deliveries)\n",
    "ax = plt.xticks(rotation=45)\n",
    "ax = plt.title(\"Number of deliveries per weekday (0 = Monday)\")"
   ]
  },
  {
   "cell_type": "markdown",
   "metadata": {},
   "source": [
    "The result is reasonable. We have a higher volume of deliveries on Sundays and a lower volume on Mondays."
   ]
  },
  {
   "cell_type": "markdown",
   "metadata": {},
   "source": [
    "Let's now take a look at our user base:"
   ]
  },
  {
   "cell_type": "code",
   "execution_count": 7,
   "metadata": {},
   "outputs": [
    {
     "name": "stdout",
     "output_type": "stream",
     "text": [
      "Number of customers: 3192\n",
      "Number of jumpmen: 578\n"
     ]
    }
   ],
   "source": [
    "print(\"Number of customers: \" + str(len(df.customer_id.unique())))\n",
    "print(\"Number of jumpmen: \" + str(len(df.jumpman_id.unique())))"
   ]
  },
  {
   "cell_type": "markdown",
   "metadata": {},
   "source": [
    "For the month of October, 2014, we had **3,192 active customers** served by **578 jumpmen**. Again, it would be useful to compare those numbers with historical data. "
   ]
  },
  {
   "cell_type": "markdown",
   "metadata": {},
   "source": [
    "Finally, let's take a look at the density of deliveries by pickup location and dropoff location."
   ]
  },
  {
   "cell_type": "code",
   "execution_count": 8,
   "metadata": {},
   "outputs": [
    {
     "data": {
      "text/html": [
       "<div style=\"width:100%;\"><div style=\"position:relative;width:100%;height:0;padding-bottom:60%;\"><span style=\"color:#565656\">Make this Notebook Trusted to load map: File -> Trust Notebook</span><iframe src=\"about:blank\" style=\"position:absolute;width:100%;height:100%;left:0;top:0;border:none !important;\" data-html=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 onload=\"this.contentDocument.open();this.contentDocument.write(atob(this.getAttribute('data-html')));this.contentDocument.close();\" allowfullscreen webkitallowfullscreen mozallowfullscreen></iframe></div></div>"
      ],
      "text/plain": [
       "<folium.folium.Map at 0x1df693e3c48>"
      ]
     },
     "execution_count": 8,
     "metadata": {},
     "output_type": "execute_result"
    }
   ],
   "source": [
    "df[\"pickup_lat2\"] = df.pickup_lat.apply(lambda x: round(x*100)/100)\n",
    "df[\"pickup_lon2\"] = df.pickup_lon.apply(lambda x: round(x*100)/100)\n",
    "pickup_hm = df.groupby([\"pickup_lat2\", \"pickup_lon2\"]).delivery_id.nunique().reset_index()\n",
    "\n",
    "hmap = folium.Map(titles=\"A\", location=[df.pickup_lat.mean(), df.pickup_lon.mean()], zoom_start=12)\n",
    "\n",
    "hm_wide = HeatMap( list(zip(pickup_hm.pickup_lat2.values, pickup_hm.pickup_lon2.values, pickup_hm.delivery_id.astype(float).values)),\n",
    "                   min_opacity=0.2,\n",
    "                   max_val=pickup_hm.delivery_id.max(),\n",
    "                   radius=25, blur=15, \n",
    "                   max_zoom=1, \n",
    "                 )\n",
    "\n",
    "loc = 'Density of delivery pickups'\n",
    "title_html = '''\n",
    "             <h3 align=\"center\" style=\"font-size:16px\"><b>{}</b></h3>\n",
    "             '''.format(loc)   \n",
    "hmap.get_root().html.add_child(folium.Element(title_html))\n",
    "hmap.add_child(hm_wide)"
   ]
  },
  {
   "cell_type": "code",
   "execution_count": 9,
   "metadata": {},
   "outputs": [
    {
     "data": {
      "text/html": [
       "<div style=\"width:100%;\"><div style=\"position:relative;width:100%;height:0;padding-bottom:60%;\"><span style=\"color:#565656\">Make this Notebook Trusted to load map: File -> Trust Notebook</span><iframe src=\"about:blank\" style=\"position:absolute;width:100%;height:100%;left:0;top:0;border:none !important;\" data-html=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 onload=\"this.contentDocument.open();this.contentDocument.write(atob(this.getAttribute('data-html')));this.contentDocument.close();\" allowfullscreen webkitallowfullscreen mozallowfullscreen></iframe></div></div>"
      ],
      "text/plain": [
       "<folium.folium.Map at 0x1df693fed88>"
      ]
     },
     "execution_count": 9,
     "metadata": {},
     "output_type": "execute_result"
    }
   ],
   "source": [
    "df[\"dropoff_lat2\"] = df.dropoff_lat.apply(lambda x: round(x*100)/100)\n",
    "df[\"dropoff_lon2\"] = df.dropoff_lon.apply(lambda x: round(x*100)/100)\n",
    "dropoff_hm = df.groupby([\"dropoff_lat2\", \"dropoff_lon2\"]).delivery_id.nunique().reset_index()\n",
    "\n",
    "hmap = folium.Map(location=[df.dropoff_lat.mean(), df.dropoff_lon.mean()], zoom_start=12)\n",
    "\n",
    "hm_wide = HeatMap( list(zip(dropoff_hm.dropoff_lat2.values, dropoff_hm.dropoff_lon2.values, dropoff_hm.delivery_id.astype(float).values)),\n",
    "                   min_opacity=0.2,\n",
    "                   max_val=dropoff_hm.delivery_id.max(),\n",
    "                   radius=25, blur=15, \n",
    "                   max_zoom=1, \n",
    "                 )\n",
    "loc = 'Density of delivery dropoffs'\n",
    "title_html = '''\n",
    "             <h3 align=\"center\" style=\"font-size:16px\"><b>{}</b></h3>\n",
    "             '''.format(loc)   \n",
    "hmap.get_root().html.add_child(folium.Element(title_html))\n",
    "hmap.add_child(hm_wide)"
   ]
  },
  {
   "cell_type": "markdown",
   "metadata": {},
   "source": [
    "We can see that both pickups and dropoffs are **concentrated in Lower and Midtown Manhattan**. One hypothesis is that, as most of Jumpan23 partnerships with pickup places are in Lower and Midtown Manhattan, the delivery time to other regions is high, which makes the customer experience not good. Then, it would make sense to expand the partnerships to other regions of Manhattan and even the suburbs of NYC. In the next topic section, I'll explore the delivery time."
   ]
  },
  {
   "cell_type": "markdown",
   "metadata": {},
   "source": [
    "## Customer Experience"
   ]
  },
  {
   "cell_type": "markdown",
   "metadata": {},
   "source": [
    "Here, I'm going to analyze customer behavior and experience in the platform. First, let's see how many orders per customer we had over time."
   ]
  },
  {
   "cell_type": "code",
   "execution_count": 10,
   "metadata": {},
   "outputs": [
    {
     "name": "stdout",
     "output_type": "stream",
     "text": [
      "Average orders per customer per week: 1.1769751693002257\n",
      "Average orders per customer overall: 1.6334586466165413\n"
     ]
    },
    {
     "data": {
      "text/plain": [
       "count    3192.000000\n",
       "mean        1.633459\n",
       "std         1.402995\n",
       "min         1.000000\n",
       "25%         1.000000\n",
       "50%         1.000000\n",
       "75%         2.000000\n",
       "max        23.000000\n",
       "Name: delivery_id, dtype: float64"
      ]
     },
     "execution_count": 10,
     "metadata": {},
     "output_type": "execute_result"
    },
    {
     "data": {
      "image/png": "[encoded data removed]",
      "text/plain": [
       "<Figure size 432x288 with 1 Axes>"
      ]
     },
     "metadata": {
      "needs_background": "light"
     },
     "output_type": "display_data"
    }
   ],
   "source": [
    "df[\"delivery_week\"] = df.delivery_date.apply(lambda date: date.isocalendar()[1])\n",
    "\n",
    "orders_per_cust = df[[\"delivery_id\", \"customer_id\", \"delivery_week\"]].groupby(\"delivery_week\").nunique()\n",
    "orders_per_cust\n",
    "orders_per_cust.columns = [\"delivery_id\", \"customer_id\", \"temp\"]\n",
    "\n",
    "ax = plt.plot(orders_per_cust.delivery_id/orders_per_cust.customer_id)\n",
    "ax = plt.title(\"Orders per customer per week\")\n",
    "print(\"Average orders per customer per week: \" + str(orders_per_cust.delivery_id.sum()/orders_per_cust.customer_id.sum()))\n",
    "print(\"Average orders per customer overall: \" + str(df.delivery_id.nunique()/df.customer_id.nunique()))\n",
    "df.groupby(\"customer_id\").delivery_id.nunique().describe()"
   ]
  },
  {
   "cell_type": "markdown",
   "metadata": {},
   "source": [
    "We had on average **1.63 orders per customer in NYC in October 2014**, and on average **1.18 orders per week**. Also, 75% of customers ordered twice or less, and the maximum number of orders for a customer was 23. We should try to increase the frequency of orders with promotions and targeted advertisement and we should retain yhe high frequency customers."
   ]
  },
  {
   "cell_type": "markdown",
   "metadata": {},
   "source": [
    "We can see a peak in week 42, but the standard deviation is pretty low. It would be interesting to compare those numbers with past data."
   ]
  },
  {
   "cell_type": "markdown",
   "metadata": {},
   "source": [
    "Let's now see how many items we have per order on average. Here, we have missing data for the item name, but we know that each row corresponds to a different item."
   ]
  },
  {
   "cell_type": "code",
   "execution_count": 11,
   "metadata": {},
   "outputs": [
    {
     "name": "stdout",
     "output_type": "stream",
     "text": [
      "# items per order: 1.1474875335634829\n"
     ]
    },
    {
     "data": {
      "text/plain": [
       "count    5214.000000\n",
       "mean        1.147488\n",
       "std         0.420915\n",
       "min         1.000000\n",
       "25%         1.000000\n",
       "50%         1.000000\n",
       "75%         1.000000\n",
       "max         5.000000\n",
       "Name: customer_id, dtype: float64"
      ]
     },
     "execution_count": 11,
     "metadata": {},
     "output_type": "execute_result"
    }
   ],
   "source": [
    "items_per_order = df.groupby(\"delivery_id\").count().customer_id\n",
    "print(\"# items per order: \" + str(items_per_order.mean()))\n",
    "items_per_order.describe()"
   ]
  },
  {
   "cell_type": "markdown",
   "metadata": {},
   "source": [
    "Most of the time, customers tend to order only 1 item in the platform, with a maximum value of 5 items. Therefore, the company should think of ways to make customers add more items in the checkout, as for example recommending other items that go well together."
   ]
  },
  {
   "cell_type": "code",
   "execution_count": 12,
   "metadata": {},
   "outputs": [
    {
     "data": {
      "text/plain": [
       "place_category\n",
       "Italian                  437\n",
       "Burger                   395\n",
       "American                 357\n",
       "Japanese                 335\n",
       "Dessert                  277\n",
       "Chinese                  265\n",
       "Sushi                    203\n",
       "Salad                    192\n",
       "Mexican                  165\n",
       "Grocery Store            130\n",
       "Bakery                   126\n",
       "BBQ                      114\n",
       "Pizza                     94\n",
       "Juice Bar                 91\n",
       "Indian                    80\n",
       "Fast Food                 80\n",
       "Donut                     71\n",
       "Seafood                   69\n",
       "Drug Store                68\n",
       "Mediterranean             61\n",
       "Vegetarian                60\n",
       "Coffee                    60\n",
       "Deli                      56\n",
       "Middle Eastern            56\n",
       "Ice Cream                 54\n",
       "Gluten-Free               53\n",
       "Breakfast                 45\n",
       "Shop                      41\n",
       "South American            33\n",
       "Steak                     31\n",
       "Thai                      31\n",
       "French                    24\n",
       "Southern                  23\n",
       "Promo                     19\n",
       "Vegan                     19\n",
       "Electronics Store         19\n",
       "Korean                    18\n",
       "Food Truck                17\n",
       "Convenience Store         17\n",
       "Spanish                   12\n",
       "Asian                     11\n",
       "Eastern European          10\n",
       "Department Store           9\n",
       "Russian                    8\n",
       "Caribbean                  6\n",
       "Vietnamese                 6\n",
       "Office Supplies Store      5\n",
       "Specialty Store            5\n",
       "German                     4\n",
       "Kids & Baby                3\n",
       "Beauty Supply              2\n",
       "Clothing                   1\n",
       "Book Store                 1\n",
       "Pet Supplies Store         1\n",
       "Restaurant                 1\n",
       "Art Store                  1\n",
       "African                    1\n",
       "Name: delivery_id, dtype: int64"
      ]
     },
     "execution_count": 12,
     "metadata": {},
     "output_type": "execute_result"
    }
   ],
   "source": [
    "df.groupby(\"place_category\").delivery_id.nunique().sort_values(ascending=False)"
   ]
  },
  {
   "cell_type": "markdown",
   "metadata": {},
   "source": [
    "The **top place category** ordered in NYC is **Italian**, followed by **Burger** and **American**. The **least ordered category** is **Clothing**, tied up with other categories like Book Store. Therefore, the company should understand if people are not interested by clothing and books, or if the platform doesn't provide a good experience in those categories (few places or few items available). "
   ]
  },
  {
   "cell_type": "code",
   "execution_count": 13,
   "metadata": {},
   "outputs": [
    {
     "data": {
      "text/plain": [
       "pickup_place\n",
       "Shake Shack                  266\n",
       "Momofuku Milk Bar            162\n",
       "The Meatball Shop            153\n",
       "sweetgreen                   138\n",
       "Blue Ribbon Fried Chicken    115\n",
       "                            ... \n",
       "Rai Rai Ken                    1\n",
       "Grimaldi's Pizza               1\n",
       "Grimaldi's Pizzeria            1\n",
       "Rag & Bone Showroom            1\n",
       "Doughnuttery                   1\n",
       "Name: delivery_id, Length: 898, dtype: int64"
      ]
     },
     "execution_count": 13,
     "metadata": {},
     "output_type": "execute_result"
    }
   ],
   "source": [
    "df.groupby(\"pickup_place\").delivery_id.nunique().sort_values(ascending=False)"
   ]
  },
  {
   "cell_type": "markdown",
   "metadata": {},
   "source": [
    "  The **top place ordered** in NYC is **Shake Shack**, so Jumpman should maintain a good relationship with this stakeholder."
   ]
  },
  {
   "cell_type": "markdown",
   "metadata": {},
   "source": [
    "Let's now see how long it takes for a customer to place an order."
   ]
  },
  {
   "cell_type": "code",
   "execution_count": 14,
   "metadata": {},
   "outputs": [],
   "source": [
    "df.how_long_it_took_to_order = df.how_long_it_took_to_order.apply(lambda date: dt.strptime(date, '%H:%M:%S.%f') if date==date else date)"
   ]
  },
  {
   "cell_type": "code",
   "execution_count": 15,
   "metadata": {},
   "outputs": [
    {
     "name": "stdout",
     "output_type": "stream",
     "text": [
      "Avg time to place an order (minutes): 7.620712162336823\n",
      "Avg time per item to place an order (minutes): 6.953561350221879\n"
     ]
    }
   ],
   "source": [
    "df[\"seconds_to_order\"] = df.how_long_it_took_to_order.apply(lambda time: time.minute*60 + time.second if time != None else time)\n",
    "\n",
    "time_to_order = df.groupby(\"delivery_id\").seconds_to_order.agg([\"mean\", \"count\"]).dropna()\n",
    "time_to_order[\"avg_time\"] = time_to_order[\"mean\"]/time_to_order[\"count\"]\n",
    "print(\"Avg time to place an order (minutes): \" + str(time_to_order[\"mean\"].mean()/60))\n",
    "print(\"Avg time per item to place an order (minutes): \" + str(time_to_order.avg_time.mean()/60))"
   ]
  },
  {
   "cell_type": "markdown",
   "metadata": {},
   "source": [
    "It takes around **7.6 minutes** for customers to order in the platform, and around **7 minutes per item**. It would be useful to compare those values with past data from other cities, as well."
   ]
  },
  {
   "cell_type": "markdown",
   "metadata": {},
   "source": [
    "## Jumpmen efficiency"
   ]
  },
  {
   "cell_type": "code",
   "execution_count": 16,
   "metadata": {},
   "outputs": [],
   "source": [
    "from datetime import timedelta as td\n",
    "import seaborn as sns"
   ]
  },
  {
   "cell_type": "markdown",
   "metadata": {},
   "source": [
    "Let's now analyse the operations from the perspective of the Jumpmen. First, it is interesting to know the number of deliveries each Jumpmen performs on average."
   ]
  },
  {
   "cell_type": "code",
   "execution_count": 17,
   "metadata": {},
   "outputs": [
    {
     "data": {
      "text/plain": [
       "count    578.000000\n",
       "mean       9.020761\n",
       "std       10.324354\n",
       "min        1.000000\n",
       "25%        2.000000\n",
       "50%        5.000000\n",
       "75%       12.000000\n",
       "max       67.000000\n",
       "Name: delivery_id, dtype: float64"
      ]
     },
     "execution_count": 17,
     "metadata": {},
     "output_type": "execute_result"
    },
    {
     "data": {
      "image/png": "[encoded data removed]",
      "text/plain": [
       "<Figure size 432x288 with 1 Axes>"
      ]
     },
     "metadata": {
      "needs_background": "light"
     },
     "output_type": "display_data"
    }
   ],
   "source": [
    "dlvrs_per_jumpman = df.groupby(\"jumpman_id\").delivery_id.nunique()\n",
    "plt.hist(dlvrs_per_jumpman, bins=15)\n",
    "plt.title(\"Distribution of # of deliveries per jumpman\")\n",
    "dlvrs_per_jumpman.describe()"
   ]
  },
  {
   "cell_type": "code",
   "execution_count": 18,
   "metadata": {},
   "outputs": [
    {
     "data": {
      "text/plain": [
       "jumpman_id\n",
       "99219     67\n",
       "142394    67\n",
       "104533    67\n",
       "30743     52\n",
       "3296      50\n",
       "Name: delivery_id, dtype: int64"
      ]
     },
     "execution_count": 18,
     "metadata": {},
     "output_type": "execute_result"
    }
   ],
   "source": [
    "dlvrs_per_jumpman.sort_values(ascending=False).head(5)"
   ]
  },
  {
   "cell_type": "markdown",
   "metadata": {},
   "source": [
    "**Most of Jumpmen delivered only once**, which is a low number. Jumpman23 should think of ways to increase loyalty of jumpmen, as for example creating targets of number of deliveries and rewarding jumpmen for that."
   ]
  },
  {
   "cell_type": "markdown",
   "metadata": {},
   "source": [
    "On average, they deliver around **9 times** and the maximum number of deliveries was **67**. The top performers, as '99219', should get incentives to stay in the platform."
   ]
  },
  {
   "cell_type": "markdown",
   "metadata": {},
   "source": [
    "Let's see the number of active Jumpmen over time."
   ]
  },
  {
   "cell_type": "code",
   "execution_count": 19,
   "metadata": {},
   "outputs": [
    {
     "data": {
      "text/plain": [
       "Text(0.5, 1.0, '% utilization of Jumpmen')"
      ]
     },
     "execution_count": 19,
     "metadata": {},
     "output_type": "execute_result"
    },
    {
     "data": {
      "image/png": "[encoded data removed]",
      "text/plain": [
       "<Figure size 432x288 with 1 Axes>"
      ]
     },
     "metadata": {
      "needs_background": "light"
     },
     "output_type": "display_data"
    }
   ],
   "source": [
    "plt.plot(df.groupby(\"delivery_date\").jumpman_id.nunique()/df.jumpman_id.nunique())\n",
    "ax = plt.xticks(rotation=45)\n",
    "plt.title(\"% utilization of Jumpmen\")"
   ]
  },
  {
   "cell_type": "markdown",
   "metadata": {},
   "source": [
    "From the active Jumpmen in October 2014, we had a **% of utilization** ranging between **14% and 22%** per day. However, we can't reach any conclusions with this data, because we don't know if the remaining Jumpmen were connected to the platform waiting for deliveries or if they were offline."
   ]
  },
  {
   "cell_type": "markdown",
   "metadata": {},
   "source": [
    "Let's now see how long it takes to commute around the city. As for some deliveries the delivery started after the Jumpman arrived at the pickup, I'll consider that it took 0 minutes to commute in these cases."
   ]
  },
  {
   "cell_type": "code",
   "execution_count": 20,
   "metadata": {},
   "outputs": [],
   "source": [
    "df[\"pickup_commute_time\"] = df.when_the_Jumpman_arrived_at_pickup.apply(lambda time: dt.strptime(time, '%Y-%m-%d %H:%M:%S.%f') if time==time else time)-df.when_the_delivery_started.apply(lambda time: dt.strptime(time, '%Y-%m-%d %H:%M:%S.%f') if time==time else time)\n",
    "df.pickup_commute_time = df.pickup_commute_time.apply(lambda x: 0 if x.days < 0 else x.seconds/60)\n",
    "\n",
    "df[\"dropoff_commute_time\"] = df.when_the_Jumpman_arrived_at_dropoff.apply(lambda time: dt.strptime(time, '%Y-%m-%d %H:%M:%S.%f') if time==time else time)-df.when_the_Jumpman_left_pickup.apply(lambda time: dt.strptime(time, '%Y-%m-%d %H:%M:%S.%f') if time==time else time)\n",
    "df.dropoff_commute_time = df.dropoff_commute_time.apply(lambda x: 0 if x.days < 0 else x.seconds/60)\n",
    "\n",
    "df[\"total_commute_time\"] = df.pickup_commute_time + df.dropoff_commute_time\n",
    "total_commute_time = df.groupby([\"jumpman_id\", \"delivery_id\"]).total_commute_time.mean().reset_index()"
   ]
  },
  {
   "cell_type": "code",
   "execution_count": 21,
   "metadata": {},
   "outputs": [
    {
     "name": "stderr",
     "output_type": "stream",
     "text": [
      "C:\\Users\\fellipefcm\\anaconda3\\lib\\site-packages\\numpy\\lib\\histograms.py:839: RuntimeWarning: invalid value encountered in greater_equal\n",
      "  keep = (tmp_a >= first_edge)\n",
      "C:\\Users\\fellipefcm\\anaconda3\\lib\\site-packages\\numpy\\lib\\histograms.py:840: RuntimeWarning: invalid value encountered in less_equal\n",
      "  keep &= (tmp_a <= last_edge)\n"
     ]
    },
    {
     "data": {
      "text/plain": [
       "count    565.000000\n",
       "mean      26.953660\n",
       "std       10.442533\n",
       "min        2.316667\n",
       "25%       19.866667\n",
       "50%       26.152381\n",
       "75%       32.142857\n",
       "max       84.333333\n",
       "Name: total_commute_time, dtype: float64"
      ]
     },
     "execution_count": 21,
     "metadata": {},
     "output_type": "execute_result"
    },
    {
     "data": {
      "image/png": "[encoded data removed]",
      "text/plain": [
       "<Figure size 432x288 with 1 Axes>"
      ]
     },
     "metadata": {
      "needs_background": "light"
     },
     "output_type": "display_data"
    }
   ],
   "source": [
    "total_commute_per_jumpman = total_commute_time.groupby(\"jumpman_id\").total_commute_time.mean()\n",
    "\n",
    "ax = plt.hist(total_commute_per_jumpman, bins=50)\n",
    "plt.title(\"Distribution of commute time per jumpman\")\n",
    "\n",
    "total_commute_per_jumpman.describe()"
   ]
  },
  {
   "cell_type": "markdown",
   "metadata": {},
   "source": [
    "On average, a Jumpman takes around **27 minutes** commuting in NYC picking up and dropping off. The fastest Jumpman took on average **2.3 minutes** and the slowest, **84.3 minutes** on average. The fast ones are probably lucky to get pickup and dropoff locations close to each other. However, it would be interesting to understand why some jumpmen are taking almost 1 hour and a half to commute. It may be due to traffic, pickup and dropoff not close to each other, slow mean of transportation or other inefficiency."
   ]
  },
  {
   "cell_type": "markdown",
   "metadata": {},
   "source": [
    "Let's now break down the commute time into pickup and dropoff commute time."
   ]
  },
  {
   "cell_type": "code",
   "execution_count": 22,
   "metadata": {},
   "outputs": [
    {
     "data": {
      "text/plain": [
       "count    565.000000\n",
       "mean      11.871461\n",
       "std        6.985575\n",
       "min        0.000000\n",
       "25%        6.700000\n",
       "50%       11.400000\n",
       "75%       16.328431\n",
       "max       38.472222\n",
       "Name: pickup_commute_time, dtype: float64"
      ]
     },
     "execution_count": 22,
     "metadata": {},
     "output_type": "execute_result"
    },
    {
     "data": {
      "image/png": "[encoded data removed]",
      "text/plain": [
       "<Figure size 432x288 with 1 Axes>"
      ]
     },
     "metadata": {
      "needs_background": "light"
     },
     "output_type": "display_data"
    }
   ],
   "source": [
    "pickup_commute_time = df.groupby([\"jumpman_id\", \"delivery_id\", \"pickup_lat2\", \"pickup_lon2\"]).pickup_commute_time.mean().reset_index()\n",
    "\n",
    "pickup_commute_per_jumpman = pickup_commute_time.groupby(\"jumpman_id\").pickup_commute_time.mean()\n",
    "\n",
    "ax = plt.hist(pickup_commute_per_jumpman, bins=40)\n",
    "plt.title(\"Distribution of pickup commute time per jumpman\")\n",
    "\n",
    "pickup_commute_per_jumpman.describe()"
   ]
  },
  {
   "cell_type": "markdown",
   "metadata": {},
   "source": [
    "The distribution of pickup commute time is a little different. We have a considerable amount of Jumpmen that arrived at the pickup before the delivery started. On average, it took around **12 minutes** for Jumpmen to pick up an order, with a maximum average time of **38.5 minutes** for some Jumpman, probably because they were assigned more distant pickups or because they usually work during peak traffic hours."
   ]
  },
  {
   "cell_type": "code",
   "execution_count": 23,
   "metadata": {},
   "outputs": [
    {
     "data": {
      "text/plain": [
       "count    565.000000\n",
       "mean      15.082199\n",
       "std        7.332435\n",
       "min        0.833333\n",
       "25%       10.689000\n",
       "50%       13.626667\n",
       "75%       17.208333\n",
       "max       69.616667\n",
       "Name: dropoff_commute_time, dtype: float64"
      ]
     },
     "execution_count": 23,
     "metadata": {},
     "output_type": "execute_result"
    },
    {
     "data": {
      "image/png": "[encoded data removed]",
      "text/plain": [
       "<Figure size 432x288 with 1 Axes>"
      ]
     },
     "metadata": {
      "needs_background": "light"
     },
     "output_type": "display_data"
    }
   ],
   "source": [
    "dropoff_commute_time = df.groupby([\"jumpman_id\", \"delivery_id\", \"dropoff_lat2\", \"dropoff_lon2\"]).dropoff_commute_time.mean().reset_index()\n",
    "\n",
    "dropoff_commute_per_jumpman = dropoff_commute_time.groupby(\"jumpman_id\").dropoff_commute_time.mean()\n",
    "\n",
    "ax = plt.hist(dropoff_commute_per_jumpman, bins=40)\n",
    "plt.title(\"Distribution of dropoff commute time per jumpman\")\n",
    "\n",
    "dropoff_commute_per_jumpman.describe()"
   ]
  },
  {
   "cell_type": "markdown",
   "metadata": {},
   "source": [
    "The dropoff distribution looks more gaussian. On average, Jumpmen took **15 minutes** to drop orders off, with a maximum average time of **69.6** for some Jumpman, probably because they were assigned distant dropoffs or because they usually work during peak traffic hours."
   ]
  },
  {
   "cell_type": "markdown",
   "metadata": {},
   "source": [
    "We can see that dropoff is slightly slower than pickup. It would be useful for Jumpman23 to do a deep dive on those anomalous drivers to understand if they are slow because of external factors like traffic, distance and mean of transportation, or because they are not efficient."
   ]
  },
  {
   "cell_type": "markdown",
   "metadata": {},
   "source": [
    "It is usufel to analyze the commute time versus the pickup and dropoff location, to see if places distant from Lower and Midtown Manhattan have a higher commute time because Jumpmen and places are concentrated in that region."
   ]
  },
  {
   "cell_type": "code",
   "execution_count": 24,
   "metadata": {},
   "outputs": [
    {
     "data": {
      "text/html": [
       "<div style=\"width:100%;\"><div style=\"position:relative;width:100%;height:0;padding-bottom:60%;\"><span style=\"color:#565656\">Make this Notebook Trusted to load map: File -> Trust Notebook</span><iframe src=\"about:blank\" style=\"position:absolute;width:100%;height:100%;left:0;top:0;border:none !important;\" data-html=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 onload=\"this.contentDocument.open();this.contentDocument.write(atob(this.getAttribute('data-html')));this.contentDocument.close();\" allowfullscreen webkitallowfullscreen mozallowfullscreen></iframe></div></div>"
      ],
      "text/plain": [
       "<folium.folium.Map at 0x1df693ecac8>"
      ]
     },
     "execution_count": 24,
     "metadata": {},
     "output_type": "execute_result"
    }
   ],
   "source": [
    "pickup_hm = df.groupby([\"pickup_lat2\", \"pickup_lon2\", \"delivery_id\"]).mean().groupby([\"pickup_lat2\", \"pickup_lon2\"]).pickup_commute_time.mean().reset_index()\n",
    "\n",
    "hmap = folium.Map(titles=\"A\", location=[df.pickup_lat.mean(), df.pickup_lon.mean()], zoom_start=12)\n",
    "\n",
    "hm_wide = HeatMap( list(zip(pickup_hm.pickup_lat2.values, pickup_hm.pickup_lon2.values, pickup_hm.pickup_commute_time.values)),\n",
    "                   min_opacity=0.2,\n",
    "                   max_val=pickup_hm.pickup_commute_time.max(),\n",
    "                   radius=25, blur=15, \n",
    "                   max_zoom=1, \n",
    "                 )\n",
    "\n",
    "loc = 'Density of delivery pickup time'\n",
    "title_html = '''\n",
    "             <h3 align=\"center\" style=\"font-size:16px\"><b>{}</b></h3>\n",
    "             '''.format(loc)   \n",
    "hmap.get_root().html.add_child(folium.Element(title_html))\n",
    "hmap.add_child(hm_wide)"
   ]
  },
  {
   "cell_type": "code",
   "execution_count": 25,
   "metadata": {},
   "outputs": [
    {
     "data": {
      "text/html": [
       "<div style=\"width:100%;\"><div style=\"position:relative;width:100%;height:0;padding-bottom:60%;\"><span style=\"color:#565656\">Make this Notebook Trusted to load map: File -> Trust Notebook</span><iframe src=\"about:blank\" style=\"position:absolute;width:100%;height:100%;left:0;top:0;border:none !important;\" data-html=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 onload=\"this.contentDocument.open();this.contentDocument.write(atob(this.getAttribute('data-html')));this.contentDocument.close();\" allowfullscreen webkitallowfullscreen mozallowfullscreen></iframe></div></div>"
      ],
      "text/plain": [
       "<folium.folium.Map at 0x1df69408048>"
      ]
     },
     "execution_count": 25,
     "metadata": {},
     "output_type": "execute_result"
    }
   ],
   "source": [
    "dropoff_hm = df.groupby([\"dropoff_lat2\", \"dropoff_lon2\", \"delivery_id\"]).mean().groupby([\"dropoff_lat2\", \"dropoff_lon2\"]).dropoff_commute_time.mean().reset_index()\n",
    "\n",
    "hmap = folium.Map(titles=\"A\", location=[df.dropoff_lat.mean(), df.dropoff_lon.mean()], zoom_start=12)\n",
    "\n",
    "hm_wide = HeatMap( list(zip(dropoff_hm.dropoff_lat2.values, dropoff_hm.dropoff_lon2.values, dropoff_hm.dropoff_commute_time.values)),\n",
    "                   min_opacity=0.2,\n",
    "                   max_val=dropoff_hm.dropoff_commute_time.max(),\n",
    "                   radius=25, blur=15, \n",
    "                   max_zoom=1, \n",
    "                 )\n",
    "\n",
    "loc = 'Density of delivery dropoff time'\n",
    "title_html = '''\n",
    "             <h3 align=\"center\" style=\"font-size:16px\"><b>{}</b></h3>\n",
    "             '''.format(loc)   \n",
    "hmap.get_root().html.add_child(folium.Element(title_html))\n",
    "hmap.add_child(hm_wide)"
   ]
  },
  {
   "cell_type": "markdown",
   "metadata": {},
   "source": [
    "We can see that places far from the Lower and Midtown Manhattan have considerably higher commute times, especially dropoff commute time. This validates our initial hypothesis that people in the suburbs are having a worse experience. Jumpman23 should consider expanding the partnerships with businesses in those distant neighbourhoods."
   ]
  },
  {
   "cell_type": "markdown",
   "metadata": {},
   "source": [
    "Let's now analyze the time Jumpmen spend waiting to pick up."
   ]
  },
  {
   "cell_type": "code",
   "execution_count": 26,
   "metadata": {},
   "outputs": [
    {
     "data": {
      "text/plain": [
       "count    540.000000\n",
       "mean      19.303562\n",
       "std        7.511331\n",
       "min        5.816667\n",
       "25%       14.665972\n",
       "50%       17.848395\n",
       "75%       21.967666\n",
       "max      101.866667\n",
       "Name: wait_time, dtype: float64"
      ]
     },
     "execution_count": 26,
     "metadata": {},
     "output_type": "execute_result"
    },
    {
     "data": {
      "image/png": "[encoded data removed]",
      "text/plain": [
       "<Figure size 432x288 with 1 Axes>"
      ]
     },
     "metadata": {
      "needs_background": "light"
     },
     "output_type": "display_data"
    }
   ],
   "source": [
    "df[\"wait_time\"] = df.when_the_Jumpman_left_pickup.apply(lambda time: dt.strptime(time, '%Y-%m-%d %H:%M:%S.%f') if time==time else time)-df.when_the_Jumpman_arrived_at_pickup.apply(lambda time: dt.strptime(time, '%Y-%m-%d %H:%M:%S.%f') if time==time else time)\n",
    "df.wait_time = df.wait_time.apply(lambda x: 0 if x.days < 0 else x.seconds/60)\n",
    "\n",
    "wait_time = df.groupby([\"jumpman_id\", \"delivery_id\", \"place_category\", \"pickup_place\"]).wait_time.mean().reset_index()\n",
    "\n",
    "wait_time_per_jumpman = wait_time.groupby(\"jumpman_id\").wait_time.mean()\n",
    "\n",
    "ax = plt.hist(wait_time_per_jumpman, bins=40)\n",
    "plt.title(\"Distribution of wait time per jumpman\")\n",
    "\n",
    "wait_time_per_jumpman.describe()"
   ]
  },
  {
   "cell_type": "markdown",
   "metadata": {},
   "source": [
    "We have again a near normal distribution, with some anomalous cases. On average, a Jumpman waits for around **20 minutes** in the pickup location, and it varies **from 6 to 100 minutes**. It is very important to understand what happened with the Jumpman who waited 100 minutes, because it affects a lot the customer experience. It could be a problem in the pickup place, in the data collection or a problem with the driver."
   ]
  },
  {
   "cell_type": "markdown",
   "metadata": {},
   "source": [
    "Let's now segment the wating time by place category."
   ]
  },
  {
   "cell_type": "code",
   "execution_count": 27,
   "metadata": {},
   "outputs": [
    {
     "data": {
      "image/png": "[encoded data removed]",
      "text/plain": [
       "<Figure size 2160x720 with 1 Axes>"
      ]
     },
     "metadata": {
      "needs_background": "light"
     },
     "output_type": "display_data"
    }
   ],
   "source": [
    "ax = plt.figure(figsize=(30,10))\n",
    "sns.set(font_scale = 2)\n",
    "sns.boxplot(x=wait_time.place_category, y=wait_time.wait_time)\n",
    "ax = plt.xticks(rotation=90)"
   ]
  },
  {
   "cell_type": "code",
   "execution_count": 28,
   "metadata": {},
   "outputs": [
    {
     "data": {
      "text/plain": [
       "place_category\n",
       "Art Store        42.350000\n",
       "Grocery Store    40.759821\n",
       "Russian          10.145833\n",
       "Shop              8.585897\n",
       "Name: wait_time, dtype: float64"
      ]
     },
     "execution_count": 28,
     "metadata": {},
     "output_type": "execute_result"
    }
   ],
   "source": [
    "wait_time.groupby(\"place_category\").wait_time.mean().sort_values(ascending=False)[[0,1,-2,-1]]"
   ]
  },
  {
   "cell_type": "markdown",
   "metadata": {},
   "source": [
    "The **fastest** waiting time were on the categories **Russian** and **Shop**, while the **slowest** were on the cateogories **Art Store** (few data points, though) and **Grocery Store**. It makes sense, as usually doing groceries is very time consumming. It would be interesting to find ways of speeding up the grocery shopping, but this would require cooperation from both Jumpmen and the grocery stores."
   ]
  },
  {
   "cell_type": "code",
   "execution_count": 29,
   "metadata": {},
   "outputs": [
    {
     "data": {
      "text/plain": [
       "pickup_place\n",
       "Denny's                  51.733333\n",
       "Friend of a Farmer       51.000000\n",
       "Lantern Thai Kitchen     50.300000\n",
       "Trader Joe's             47.668803\n",
       "Gemma at Bowery Hotel    46.333333\n",
       "Name: wait_time, dtype: float64"
      ]
     },
     "execution_count": 29,
     "metadata": {},
     "output_type": "execute_result"
    }
   ],
   "source": [
    "wait_time.groupby(\"pickup_place\").wait_time.mean().sort_values(ascending=False).head()"
   ]
  },
  {
   "cell_type": "markdown",
   "metadata": {},
   "source": [
    "The **slowest place was Denny's**, a dinner restaurant chain, followed by **Friend of a Farmer**. Jumpman23 should investigate why waiting time is so high in those places."
   ]
  },
  {
   "cell_type": "markdown",
   "metadata": {},
   "source": [
    "## Logistics"
   ]
  },
  {
   "cell_type": "code",
   "execution_count": 30,
   "metadata": {},
   "outputs": [],
   "source": [
    "import math\n",
    "import numpy as np"
   ]
  },
  {
   "cell_type": "markdown",
   "metadata": {},
   "source": [
    "Here, I'm going to check how the logistics operation is doing. I'll first start by segmenting the means of transportation."
   ]
  },
  {
   "cell_type": "code",
   "execution_count": 31,
   "metadata": {},
   "outputs": [
    {
     "data": {
      "text/plain": [
       "Text(0.5, 1.0, '# of deliveries per vehicle type')"
      ]
     },
     "execution_count": 31,
     "metadata": {},
     "output_type": "execute_result"
    },
    {
     "data": {
      "image/png": "[encoded data removed]",
      "text/plain": [
       "<Figure size 432x288 with 1 Axes>"
      ]
     },
     "metadata": {},
     "output_type": "display_data"
    }
   ],
   "source": [
    "y = df.groupby(\"vehicle_type\").delivery_id.nunique().sort_values()\n",
    "sns.set(font_scale = 1)\n",
    "ax = plt.xticks(rotation=45)\n",
    "plt.bar(y.index,y)\n",
    "plt.title(\"# of deliveries per vehicle type\")"
   ]
  },
  {
   "cell_type": "markdown",
   "metadata": {},
   "source": [
    "Most of the deliveries are currently done by bycicle."
   ]
  },
  {
   "cell_type": "markdown",
   "metadata": {},
   "source": [
    "Let's see how the vehicle type affects the commute speed."
   ]
  },
  {
   "cell_type": "code",
   "execution_count": 32,
   "metadata": {},
   "outputs": [],
   "source": [
    "R = 6371e3\n",
    "phi1 = df.pickup_lat * math.pi/180\n",
    "phi2 = df.dropoff_lat * math.pi/180;\n",
    "delta_phi = (df.dropoff_lat-df.pickup_lat) * math.pi/180;\n",
    "delta_lambda = (df.dropoff_lon-df.pickup_lon) * math.pi/180;\n",
    "\n",
    "a = np.sin(delta_phi/2) * np.sin(delta_phi/2) + np.cos(phi1) * np.cos(phi2) * np.sin(delta_lambda/2) * np.sin(delta_lambda/2)\n",
    "c = 2 * np.arctan2(np.sqrt(a), np.sqrt(1-a))\n",
    "\n",
    "K = 0.000621371\n",
    "df[\"pickup_dropoff_distance\"] = R * c * K # in miles"
   ]
  },
  {
   "cell_type": "code",
   "execution_count": 33,
   "metadata": {},
   "outputs": [
    {
     "data": {
      "text/plain": [
       "(0, 40)"
      ]
     },
     "execution_count": 33,
     "metadata": {},
     "output_type": "execute_result"
    },
    {
     "data": {
      "image/png": "[encoded data removed]",
      "text/plain": [
       "<Figure size 432x288 with 1 Axes>"
      ]
     },
     "metadata": {},
     "output_type": "display_data"
    }
   ],
   "source": [
    "commute_per_veh = df.groupby([\"vehicle_type\", \"delivery_id\"])[[\"pickup_dropoff_distance\", \"dropoff_commute_time\"]].mean().reset_index()\n",
    "commute_per_veh[\"veh_speed\"] = commute_per_veh.pickup_dropoff_distance*60/commute_per_veh.dropoff_commute_time\n",
    "sns.boxplot(x=commute_per_veh.vehicle_type, y=commute_per_veh.veh_speed)\n",
    "plt.ylim(0,40)"
   ]
  },
  {
   "cell_type": "code",
   "execution_count": 34,
   "metadata": {},
   "outputs": [
    {
     "data": {
      "text/plain": [
       "vehicle_type\n",
       "bicycle       5.016317\n",
       "walker        5.069557\n",
       "van           5.258920\n",
       "car           6.076134\n",
       "scooter       6.080280\n",
       "motorcycle    6.557026\n",
       "truck         6.954760\n",
       "Name: veh_speed, dtype: float64"
      ]
     },
     "execution_count": 34,
     "metadata": {},
     "output_type": "execute_result"
    }
   ],
   "source": [
    "speed_per_veh = commute_per_veh.groupby(\"vehicle_type\").sum()\n",
    "speed_per_veh.veh_speed = speed_per_veh.pickup_dropoff_distance*60/speed_per_veh.dropoff_commute_time\n",
    "speed_per_veh.veh_speed.sort_values()"
   ]
  },
  {
   "cell_type": "markdown",
   "metadata": {},
   "source": [
    "Here, I used the linear distance between 2 coordinates to calculate the speed. For distant points that is a fair approximation, but for closeby points it can underestimate a lot the real distance.\n",
    "Having said that, the **truck** is the **fastest** mean of transportation, with an average speed of **7 miles per hour**, while the **bicycle and walker** are the **slowest**, with an average speed of **5 miles per hour**."
   ]
  },
  {
   "cell_type": "markdown",
   "metadata": {},
   "source": [
    "Ideally, we should use walker, bicycle and scooter for lower quantities and cars, vans and trucks for larger quantities delivered. I'll check if this is happening now."
   ]
  },
  {
   "cell_type": "code",
   "execution_count": 35,
   "metadata": {},
   "outputs": [
    {
     "data": {
      "text/plain": [
       "vehicle_type\n",
       "van           1.028986\n",
       "scooter       1.046875\n",
       "motorcycle    1.052632\n",
       "walker        1.106838\n",
       "bicycle       1.131283\n",
       "car           1.175238\n",
       "truck         1.342105\n",
       "Name: item_quantity, dtype: float64"
      ]
     },
     "execution_count": 35,
     "metadata": {},
     "output_type": "execute_result"
    }
   ],
   "source": [
    "df.groupby([\"vehicle_type\", \"delivery_id\"]).item_quantity.sum().groupby(\"vehicle_type\").mean().sort_values()"
   ]
  },
  {
   "cell_type": "markdown",
   "metadata": {},
   "source": [
    "Indeed, trucks deliver a larger quantity than the other vehicles, but the van delivers the smallest quantity. Let's check the types of items delivered by vans."
   ]
  },
  {
   "cell_type": "code",
   "execution_count": 36,
   "metadata": {},
   "outputs": [
    {
     "data": {
      "text/html": [
       "<div>\n",
       "<style scoped>\n",
       "    .dataframe tbody tr th:only-of-type {\n",
       "        vertical-align: middle;\n",
       "    }\n",
       "\n",
       "    .dataframe tbody tr th {\n",
       "        vertical-align: top;\n",
       "    }\n",
       "\n",
       "    .dataframe thead th {\n",
       "        text-align: right;\n",
       "    }\n",
       "</style>\n",
       "<table border=\"1\" class=\"dataframe\">\n",
       "  <thead>\n",
       "    <tr style=\"text-align: right;\">\n",
       "      <th></th>\n",
       "      <th>delivery_id</th>\n",
       "      <th>customer_id</th>\n",
       "      <th>jumpman_id</th>\n",
       "      <th>vehicle_type</th>\n",
       "      <th>pickup_place</th>\n",
       "      <th>place_category</th>\n",
       "      <th>item_name</th>\n",
       "      <th>item_quantity</th>\n",
       "      <th>item_category_name</th>\n",
       "      <th>how_long_it_took_to_order</th>\n",
       "      <th>...</th>\n",
       "      <th>pickup_lon2</th>\n",
       "      <th>dropoff_lat2</th>\n",
       "      <th>dropoff_lon2</th>\n",
       "      <th>delivery_week</th>\n",
       "      <th>seconds_to_order</th>\n",
       "      <th>pickup_commute_time</th>\n",
       "      <th>dropoff_commute_time</th>\n",
       "      <th>total_commute_time</th>\n",
       "      <th>wait_time</th>\n",
       "      <th>pickup_dropoff_distance</th>\n",
       "    </tr>\n",
       "  </thead>\n",
       "  <tbody>\n",
       "    <tr>\n",
       "      <th>0</th>\n",
       "      <td>1457973</td>\n",
       "      <td>327168</td>\n",
       "      <td>162381</td>\n",
       "      <td>van</td>\n",
       "      <td>Melt Shop</td>\n",
       "      <td>American</td>\n",
       "      <td>Lemonade</td>\n",
       "      <td>1.0</td>\n",
       "      <td>Beverages</td>\n",
       "      <td>1900-01-01 00:19:58.582052</td>\n",
       "      <td>...</td>\n",
       "      <td>-73.99</td>\n",
       "      <td>40.75</td>\n",
       "      <td>-73.99</td>\n",
       "      <td>43</td>\n",
       "      <td>1198.0</td>\n",
       "      <td>NaN</td>\n",
       "      <td>NaN</td>\n",
       "      <td>NaN</td>\n",
       "      <td>NaN</td>\n",
       "      <td>0.587489</td>\n",
       "    </tr>\n",
       "    <tr>\n",
       "      <th>223</th>\n",
       "      <td>1486133</td>\n",
       "      <td>41409</td>\n",
       "      <td>171206</td>\n",
       "      <td>van</td>\n",
       "      <td>Juice Press</td>\n",
       "      <td>Juice Bar</td>\n",
       "      <td>Heaven on Earth</td>\n",
       "      <td>1.0</td>\n",
       "      <td>Raw Superfood Smoothies</td>\n",
       "      <td>NaT</td>\n",
       "      <td>...</td>\n",
       "      <td>-74.00</td>\n",
       "      <td>40.72</td>\n",
       "      <td>-74.00</td>\n",
       "      <td>44</td>\n",
       "      <td>NaN</td>\n",
       "      <td>3.933333</td>\n",
       "      <td>8.183333</td>\n",
       "      <td>12.116667</td>\n",
       "      <td>9.950000</td>\n",
       "      <td>0.327759</td>\n",
       "    </tr>\n",
       "    <tr>\n",
       "      <th>505</th>\n",
       "      <td>1431040</td>\n",
       "      <td>328072</td>\n",
       "      <td>165830</td>\n",
       "      <td>van</td>\n",
       "      <td>Momoya</td>\n",
       "      <td>Sushi</td>\n",
       "      <td>California</td>\n",
       "      <td>2.0</td>\n",
       "      <td>Roll</td>\n",
       "      <td>1900-01-01 00:05:39.015509</td>\n",
       "      <td>...</td>\n",
       "      <td>-73.98</td>\n",
       "      <td>40.72</td>\n",
       "      <td>-74.00</td>\n",
       "      <td>43</td>\n",
       "      <td>339.0</td>\n",
       "      <td>34.716667</td>\n",
       "      <td>28.033333</td>\n",
       "      <td>62.750000</td>\n",
       "      <td>6.833333</td>\n",
       "      <td>4.221099</td>\n",
       "    </tr>\n",
       "    <tr>\n",
       "      <th>515</th>\n",
       "      <td>1338928</td>\n",
       "      <td>42188</td>\n",
       "      <td>104146</td>\n",
       "      <td>van</td>\n",
       "      <td>Parm</td>\n",
       "      <td>Italian</td>\n",
       "      <td>Ricotta Toast</td>\n",
       "      <td>1.0</td>\n",
       "      <td>Bread</td>\n",
       "      <td>1900-01-01 00:05:38.132818</td>\n",
       "      <td>...</td>\n",
       "      <td>-74.00</td>\n",
       "      <td>40.74</td>\n",
       "      <td>-73.99</td>\n",
       "      <td>41</td>\n",
       "      <td>338.0</td>\n",
       "      <td>21.616667</td>\n",
       "      <td>11.416667</td>\n",
       "      <td>33.033333</td>\n",
       "      <td>5.933333</td>\n",
       "      <td>1.222114</td>\n",
       "    </tr>\n",
       "    <tr>\n",
       "      <th>588</th>\n",
       "      <td>1402218</td>\n",
       "      <td>328849</td>\n",
       "      <td>165830</td>\n",
       "      <td>van</td>\n",
       "      <td>Momofuku Noodle Bar</td>\n",
       "      <td>NaN</td>\n",
       "      <td>Momofuku Ramen</td>\n",
       "      <td>1.0</td>\n",
       "      <td>Bowls</td>\n",
       "      <td>NaT</td>\n",
       "      <td>...</td>\n",
       "      <td>-73.98</td>\n",
       "      <td>40.73</td>\n",
       "      <td>-73.99</td>\n",
       "      <td>42</td>\n",
       "      <td>NaN</td>\n",
       "      <td>15.616667</td>\n",
       "      <td>8.583333</td>\n",
       "      <td>24.200000</td>\n",
       "      <td>28.816667</td>\n",
       "      <td>0.404428</td>\n",
       "    </tr>\n",
       "    <tr>\n",
       "      <th>599</th>\n",
       "      <td>1336969</td>\n",
       "      <td>372695</td>\n",
       "      <td>104146</td>\n",
       "      <td>van</td>\n",
       "      <td>Russ &amp; Daughters</td>\n",
       "      <td>Seafood</td>\n",
       "      <td>Pastrami Russ</td>\n",
       "      <td>1.0</td>\n",
       "      <td>Sandwiches</td>\n",
       "      <td>NaT</td>\n",
       "      <td>...</td>\n",
       "      <td>-73.99</td>\n",
       "      <td>40.73</td>\n",
       "      <td>-74.01</td>\n",
       "      <td>41</td>\n",
       "      <td>NaN</td>\n",
       "      <td>4.083333</td>\n",
       "      <td>27.933333</td>\n",
       "      <td>32.016667</td>\n",
       "      <td>13.816667</td>\n",
       "      <td>1.331715</td>\n",
       "    </tr>\n",
       "    <tr>\n",
       "      <th>652</th>\n",
       "      <td>1407290</td>\n",
       "      <td>166010</td>\n",
       "      <td>162381</td>\n",
       "      <td>van</td>\n",
       "      <td>The Body Shop</td>\n",
       "      <td>NaN</td>\n",
       "      <td>NaN</td>\n",
       "      <td>NaN</td>\n",
       "      <td>NaN</td>\n",
       "      <td>NaT</td>\n",
       "      <td>...</td>\n",
       "      <td>-73.98</td>\n",
       "      <td>40.77</td>\n",
       "      <td>-73.99</td>\n",
       "      <td>43</td>\n",
       "      <td>NaN</td>\n",
       "      <td>NaN</td>\n",
       "      <td>NaN</td>\n",
       "      <td>NaN</td>\n",
       "      <td>NaN</td>\n",
       "      <td>0.768850</td>\n",
       "    </tr>\n",
       "    <tr>\n",
       "      <th>1024</th>\n",
       "      <td>1276907</td>\n",
       "      <td>325403</td>\n",
       "      <td>146428</td>\n",
       "      <td>van</td>\n",
       "      <td>Duane Reade</td>\n",
       "      <td>Drug Store</td>\n",
       "      <td>NaN</td>\n",
       "      <td>NaN</td>\n",
       "      <td>NaN</td>\n",
       "      <td>NaT</td>\n",
       "      <td>...</td>\n",
       "      <td>-73.97</td>\n",
       "      <td>40.79</td>\n",
       "      <td>-73.97</td>\n",
       "      <td>40</td>\n",
       "      <td>NaN</td>\n",
       "      <td>0.000000</td>\n",
       "      <td>2.016667</td>\n",
       "      <td>2.016667</td>\n",
       "      <td>11.616667</td>\n",
       "      <td>0.120844</td>\n",
       "    </tr>\n",
       "    <tr>\n",
       "      <th>1055</th>\n",
       "      <td>1455748</td>\n",
       "      <td>373311</td>\n",
       "      <td>171206</td>\n",
       "      <td>van</td>\n",
       "      <td>Ess-a-Bagel</td>\n",
       "      <td>Bakery</td>\n",
       "      <td>Plain Tofu</td>\n",
       "      <td>1.0</td>\n",
       "      <td>Sandwiches - Cream Cheese/Tofu</td>\n",
       "      <td>NaT</td>\n",
       "      <td>...</td>\n",
       "      <td>-73.98</td>\n",
       "      <td>40.72</td>\n",
       "      <td>-73.98</td>\n",
       "      <td>43</td>\n",
       "      <td>NaN</td>\n",
       "      <td>9.716667</td>\n",
       "      <td>13.000000</td>\n",
       "      <td>22.716667</td>\n",
       "      <td>7.583333</td>\n",
       "      <td>0.841076</td>\n",
       "    </tr>\n",
       "    <tr>\n",
       "      <th>1096</th>\n",
       "      <td>1474580</td>\n",
       "      <td>355445</td>\n",
       "      <td>165830</td>\n",
       "      <td>van</td>\n",
       "      <td>Burger King</td>\n",
       "      <td>NaN</td>\n",
       "      <td>NaN</td>\n",
       "      <td>NaN</td>\n",
       "      <td>NaN</td>\n",
       "      <td>NaT</td>\n",
       "      <td>...</td>\n",
       "      <td>-73.98</td>\n",
       "      <td>40.76</td>\n",
       "      <td>-73.96</td>\n",
       "      <td>44</td>\n",
       "      <td>NaN</td>\n",
       "      <td>NaN</td>\n",
       "      <td>NaN</td>\n",
       "      <td>NaN</td>\n",
       "      <td>NaN</td>\n",
       "      <td>0.811847</td>\n",
       "    </tr>\n",
       "    <tr>\n",
       "      <th>1111</th>\n",
       "      <td>1467153</td>\n",
       "      <td>41378</td>\n",
       "      <td>171206</td>\n",
       "      <td>van</td>\n",
       "      <td>Starbucks</td>\n",
       "      <td>Coffee</td>\n",
       "      <td>NaN</td>\n",
       "      <td>NaN</td>\n",
       "      <td>NaN</td>\n",
       "      <td>NaT</td>\n",
       "      <td>...</td>\n",
       "      <td>-73.99</td>\n",
       "      <td>40.73</td>\n",
       "      <td>-73.99</td>\n",
       "      <td>44</td>\n",
       "      <td>NaN</td>\n",
       "      <td>30.950000</td>\n",
       "      <td>7.200000</td>\n",
       "      <td>38.150000</td>\n",
       "      <td>11.950000</td>\n",
       "      <td>0.181007</td>\n",
       "    </tr>\n",
       "    <tr>\n",
       "      <th>1143</th>\n",
       "      <td>1294745</td>\n",
       "      <td>91274</td>\n",
       "      <td>104146</td>\n",
       "      <td>van</td>\n",
       "      <td>Ngam</td>\n",
       "      <td>Thai</td>\n",
       "      <td>NaN</td>\n",
       "      <td>NaN</td>\n",
       "      <td>NaN</td>\n",
       "      <td>1900-01-01 00:03:47.659952</td>\n",
       "      <td>...</td>\n",
       "      <td>-73.99</td>\n",
       "      <td>40.72</td>\n",
       "      <td>-73.98</td>\n",
       "      <td>40</td>\n",
       "      <td>227.0</td>\n",
       "      <td>21.966667</td>\n",
       "      <td>12.650000</td>\n",
       "      <td>34.616667</td>\n",
       "      <td>4.816667</td>\n",
       "      <td>0.828400</td>\n",
       "    </tr>\n",
       "    <tr>\n",
       "      <th>1189</th>\n",
       "      <td>1476070</td>\n",
       "      <td>130507</td>\n",
       "      <td>171206</td>\n",
       "      <td>van</td>\n",
       "      <td>Hu Kitchen</td>\n",
       "      <td>Gluten-Free</td>\n",
       "      <td>1/2 Organic Rotisserie Chicken</td>\n",
       "      <td>1.0</td>\n",
       "      <td>Lunch + Dinner (M-F 11:30a-Close, Sa-Su 12p-Cl...</td>\n",
       "      <td>NaT</td>\n",
       "      <td>...</td>\n",
       "      <td>-73.99</td>\n",
       "      <td>40.74</td>\n",
       "      <td>-74.00</td>\n",
       "      <td>44</td>\n",
       "      <td>NaN</td>\n",
       "      <td>6.366667</td>\n",
       "      <td>7.650000</td>\n",
       "      <td>14.016667</td>\n",
       "      <td>17.950000</td>\n",
       "      <td>0.633435</td>\n",
       "    </tr>\n",
       "    <tr>\n",
       "      <th>1355</th>\n",
       "      <td>1397463</td>\n",
       "      <td>69816</td>\n",
       "      <td>165830</td>\n",
       "      <td>van</td>\n",
       "      <td>Boqueria</td>\n",
       "      <td>Spanish</td>\n",
       "      <td>Ensalada de Hinojo y Gambas</td>\n",
       "      <td>1.0</td>\n",
       "      <td>Ensaladas</td>\n",
       "      <td>1900-01-01 00:10:48.986444</td>\n",
       "      <td>...</td>\n",
       "      <td>-74.00</td>\n",
       "      <td>40.79</td>\n",
       "      <td>-73.95</td>\n",
       "      <td>42</td>\n",
       "      <td>648.0</td>\n",
       "      <td>32.366667</td>\n",
       "      <td>50.783333</td>\n",
       "      <td>83.150000</td>\n",
       "      <td>9.816667</td>\n",
       "      <td>5.053266</td>\n",
       "    </tr>\n",
       "    <tr>\n",
       "      <th>1395</th>\n",
       "      <td>1439576</td>\n",
       "      <td>93505</td>\n",
       "      <td>171206</td>\n",
       "      <td>van</td>\n",
       "      <td>Momofuku Noodle Bar</td>\n",
       "      <td>NaN</td>\n",
       "      <td>Spicy Miso Ramen</td>\n",
       "      <td>1.0</td>\n",
       "      <td>Bowls</td>\n",
       "      <td>NaT</td>\n",
       "      <td>...</td>\n",
       "      <td>-73.98</td>\n",
       "      <td>40.72</td>\n",
       "      <td>-74.00</td>\n",
       "      <td>43</td>\n",
       "      <td>NaN</td>\n",
       "      <td>10.416667</td>\n",
       "      <td>15.316667</td>\n",
       "      <td>25.733333</td>\n",
       "      <td>32.400000</td>\n",
       "      <td>1.012638</td>\n",
       "    </tr>\n",
       "    <tr>\n",
       "      <th>1493</th>\n",
       "      <td>1407199</td>\n",
       "      <td>297130</td>\n",
       "      <td>162381</td>\n",
       "      <td>van</td>\n",
       "      <td>Doughnut Plant Chelsea</td>\n",
       "      <td>Donut</td>\n",
       "      <td>iced Tea</td>\n",
       "      <td>1.0</td>\n",
       "      <td>Iced Drinks</td>\n",
       "      <td>NaT</td>\n",
       "      <td>...</td>\n",
       "      <td>-74.00</td>\n",
       "      <td>40.74</td>\n",
       "      <td>-74.00</td>\n",
       "      <td>43</td>\n",
       "      <td>NaN</td>\n",
       "      <td>8.933333</td>\n",
       "      <td>4.300000</td>\n",
       "      <td>13.233333</td>\n",
       "      <td>17.816667</td>\n",
       "      <td>0.636527</td>\n",
       "    </tr>\n",
       "    <tr>\n",
       "      <th>1504</th>\n",
       "      <td>1411636</td>\n",
       "      <td>57943</td>\n",
       "      <td>162381</td>\n",
       "      <td>van</td>\n",
       "      <td>Pinkberry</td>\n",
       "      <td>Ice Cream</td>\n",
       "      <td>NaN</td>\n",
       "      <td>NaN</td>\n",
       "      <td>NaN</td>\n",
       "      <td>NaT</td>\n",
       "      <td>...</td>\n",
       "      <td>-73.95</td>\n",
       "      <td>40.77</td>\n",
       "      <td>-73.95</td>\n",
       "      <td>43</td>\n",
       "      <td>NaN</td>\n",
       "      <td>0.000000</td>\n",
       "      <td>6.916667</td>\n",
       "      <td>6.916667</td>\n",
       "      <td>8.316667</td>\n",
       "      <td>0.428201</td>\n",
       "    </tr>\n",
       "    <tr>\n",
       "      <th>1591</th>\n",
       "      <td>1293696</td>\n",
       "      <td>87151</td>\n",
       "      <td>104146</td>\n",
       "      <td>van</td>\n",
       "      <td>sweetgreen</td>\n",
       "      <td>Salad</td>\n",
       "      <td>Organic Lentil + Chickpea Soup</td>\n",
       "      <td>1.0</td>\n",
       "      <td>Soup</td>\n",
       "      <td>1900-01-01 00:06:29.159216</td>\n",
       "      <td>...</td>\n",
       "      <td>-74.01</td>\n",
       "      <td>40.72</td>\n",
       "      <td>-74.00</td>\n",
       "      <td>40</td>\n",
       "      <td>389.0</td>\n",
       "      <td>39.600000</td>\n",
       "      <td>10.533333</td>\n",
       "      <td>50.133333</td>\n",
       "      <td>6.333333</td>\n",
       "      <td>0.533198</td>\n",
       "    </tr>\n",
       "    <tr>\n",
       "      <th>1646</th>\n",
       "      <td>1412044</td>\n",
       "      <td>50633</td>\n",
       "      <td>162381</td>\n",
       "      <td>van</td>\n",
       "      <td>Serafina Fabulous Pizza</td>\n",
       "      <td>Italian</td>\n",
       "      <td>Carciofi E Parmigiano</td>\n",
       "      <td>1.0</td>\n",
       "      <td>Insalate</td>\n",
       "      <td>1900-01-01 00:07:33.388857</td>\n",
       "      <td>...</td>\n",
       "      <td>-73.96</td>\n",
       "      <td>40.77</td>\n",
       "      <td>-73.96</td>\n",
       "      <td>43</td>\n",
       "      <td>453.0</td>\n",
       "      <td>8.383333</td>\n",
       "      <td>11.750000</td>\n",
       "      <td>20.133333</td>\n",
       "      <td>7.333333</td>\n",
       "      <td>0.719871</td>\n",
       "    </tr>\n",
       "    <tr>\n",
       "      <th>1704</th>\n",
       "      <td>1398882</td>\n",
       "      <td>98219</td>\n",
       "      <td>165830</td>\n",
       "      <td>van</td>\n",
       "      <td>Kum Gang San</td>\n",
       "      <td>NaN</td>\n",
       "      <td>NaN</td>\n",
       "      <td>NaN</td>\n",
       "      <td>NaN</td>\n",
       "      <td>1900-01-01 00:12:35.741762</td>\n",
       "      <td>...</td>\n",
       "      <td>-73.99</td>\n",
       "      <td>40.76</td>\n",
       "      <td>-73.99</td>\n",
       "      <td>42</td>\n",
       "      <td>755.0</td>\n",
       "      <td>7.250000</td>\n",
       "      <td>11.066667</td>\n",
       "      <td>18.316667</td>\n",
       "      <td>38.333333</td>\n",
       "      <td>0.798432</td>\n",
       "    </tr>\n",
       "  </tbody>\n",
       "</table>\n",
       "<p>20 rows × 30 columns</p>\n",
       "</div>"
      ],
      "text/plain": [
       "      delivery_id  customer_id  jumpman_id vehicle_type  \\\n",
       "0         1457973       327168      162381          van   \n",
       "223       1486133        41409      171206          van   \n",
       "505       1431040       328072      165830          van   \n",
       "515       1338928        42188      104146          van   \n",
       "588       1402218       328849      165830          van   \n",
       "599       1336969       372695      104146          van   \n",
       "652       1407290       166010      162381          van   \n",
       "1024      1276907       325403      146428          van   \n",
       "1055      1455748       373311      171206          van   \n",
       "1096      1474580       355445      165830          van   \n",
       "1111      1467153        41378      171206          van   \n",
       "1143      1294745        91274      104146          van   \n",
       "1189      1476070       130507      171206          van   \n",
       "1355      1397463        69816      165830          van   \n",
       "1395      1439576        93505      171206          van   \n",
       "1493      1407199       297130      162381          van   \n",
       "1504      1411636        57943      162381          van   \n",
       "1591      1293696        87151      104146          van   \n",
       "1646      1412044        50633      162381          van   \n",
       "1704      1398882        98219      165830          van   \n",
       "\n",
       "                 pickup_place place_category                       item_name  \\\n",
       "0                   Melt Shop       American                        Lemonade   \n",
       "223               Juice Press      Juice Bar                 Heaven on Earth   \n",
       "505                    Momoya          Sushi                      California   \n",
       "515                      Parm        Italian                   Ricotta Toast   \n",
       "588       Momofuku Noodle Bar            NaN                  Momofuku Ramen   \n",
       "599          Russ & Daughters        Seafood                   Pastrami Russ   \n",
       "652             The Body Shop            NaN                             NaN   \n",
       "1024              Duane Reade     Drug Store                             NaN   \n",
       "1055              Ess-a-Bagel         Bakery                      Plain Tofu   \n",
       "1096              Burger King            NaN                             NaN   \n",
       "1111                Starbucks         Coffee                             NaN   \n",
       "1143                     Ngam           Thai                             NaN   \n",
       "1189               Hu Kitchen    Gluten-Free  1/2 Organic Rotisserie Chicken   \n",
       "1355                 Boqueria        Spanish     Ensalada de Hinojo y Gambas   \n",
       "1395      Momofuku Noodle Bar            NaN                Spicy Miso Ramen   \n",
       "1493   Doughnut Plant Chelsea          Donut                        iced Tea   \n",
       "1504                Pinkberry      Ice Cream                             NaN   \n",
       "1591               sweetgreen          Salad  Organic Lentil + Chickpea Soup   \n",
       "1646  Serafina Fabulous Pizza        Italian           Carciofi E Parmigiano   \n",
       "1704             Kum Gang San            NaN                             NaN   \n",
       "\n",
       "      item_quantity                                 item_category_name  \\\n",
       "0               1.0                                          Beverages   \n",
       "223             1.0                            Raw Superfood Smoothies   \n",
       "505             2.0                                               Roll   \n",
       "515             1.0                                              Bread   \n",
       "588             1.0                                              Bowls   \n",
       "599             1.0                                         Sandwiches   \n",
       "652             NaN                                                NaN   \n",
       "1024            NaN                                                NaN   \n",
       "1055            1.0                     Sandwiches - Cream Cheese/Tofu   \n",
       "1096            NaN                                                NaN   \n",
       "1111            NaN                                                NaN   \n",
       "1143            NaN                                                NaN   \n",
       "1189            1.0  Lunch + Dinner (M-F 11:30a-Close, Sa-Su 12p-Cl...   \n",
       "1355            1.0                                          Ensaladas   \n",
       "1395            1.0                                              Bowls   \n",
       "1493            1.0                                        Iced Drinks   \n",
       "1504            NaN                                                NaN   \n",
       "1591            1.0                                               Soup   \n",
       "1646            1.0                                           Insalate   \n",
       "1704            NaN                                                NaN   \n",
       "\n",
       "      how_long_it_took_to_order  ...  pickup_lon2  dropoff_lat2  dropoff_lon2  \\\n",
       "0    1900-01-01 00:19:58.582052  ...       -73.99         40.75        -73.99   \n",
       "223                         NaT  ...       -74.00         40.72        -74.00   \n",
       "505  1900-01-01 00:05:39.015509  ...       -73.98         40.72        -74.00   \n",
       "515  1900-01-01 00:05:38.132818  ...       -74.00         40.74        -73.99   \n",
       "588                         NaT  ...       -73.98         40.73        -73.99   \n",
       "599                         NaT  ...       -73.99         40.73        -74.01   \n",
       "652                         NaT  ...       -73.98         40.77        -73.99   \n",
       "1024                        NaT  ...       -73.97         40.79        -73.97   \n",
       "1055                        NaT  ...       -73.98         40.72        -73.98   \n",
       "1096                        NaT  ...       -73.98         40.76        -73.96   \n",
       "1111                        NaT  ...       -73.99         40.73        -73.99   \n",
       "1143 1900-01-01 00:03:47.659952  ...       -73.99         40.72        -73.98   \n",
       "1189                        NaT  ...       -73.99         40.74        -74.00   \n",
       "1355 1900-01-01 00:10:48.986444  ...       -74.00         40.79        -73.95   \n",
       "1395                        NaT  ...       -73.98         40.72        -74.00   \n",
       "1493                        NaT  ...       -74.00         40.74        -74.00   \n",
       "1504                        NaT  ...       -73.95         40.77        -73.95   \n",
       "1591 1900-01-01 00:06:29.159216  ...       -74.01         40.72        -74.00   \n",
       "1646 1900-01-01 00:07:33.388857  ...       -73.96         40.77        -73.96   \n",
       "1704 1900-01-01 00:12:35.741762  ...       -73.99         40.76        -73.99   \n",
       "\n",
       "      delivery_week seconds_to_order pickup_commute_time dropoff_commute_time  \\\n",
       "0                43           1198.0                 NaN                  NaN   \n",
       "223              44              NaN            3.933333             8.183333   \n",
       "505              43            339.0           34.716667            28.033333   \n",
       "515              41            338.0           21.616667            11.416667   \n",
       "588              42              NaN           15.616667             8.583333   \n",
       "599              41              NaN            4.083333            27.933333   \n",
       "652              43              NaN                 NaN                  NaN   \n",
       "1024             40              NaN            0.000000             2.016667   \n",
       "1055             43              NaN            9.716667            13.000000   \n",
       "1096             44              NaN                 NaN                  NaN   \n",
       "1111             44              NaN           30.950000             7.200000   \n",
       "1143             40            227.0           21.966667            12.650000   \n",
       "1189             44              NaN            6.366667             7.650000   \n",
       "1355             42            648.0           32.366667            50.783333   \n",
       "1395             43              NaN           10.416667            15.316667   \n",
       "1493             43              NaN            8.933333             4.300000   \n",
       "1504             43              NaN            0.000000             6.916667   \n",
       "1591             40            389.0           39.600000            10.533333   \n",
       "1646             43            453.0            8.383333            11.750000   \n",
       "1704             42            755.0            7.250000            11.066667   \n",
       "\n",
       "     total_commute_time  wait_time  pickup_dropoff_distance  \n",
       "0                   NaN        NaN                 0.587489  \n",
       "223           12.116667   9.950000                 0.327759  \n",
       "505           62.750000   6.833333                 4.221099  \n",
       "515           33.033333   5.933333                 1.222114  \n",
       "588           24.200000  28.816667                 0.404428  \n",
       "599           32.016667  13.816667                 1.331715  \n",
       "652                 NaN        NaN                 0.768850  \n",
       "1024           2.016667  11.616667                 0.120844  \n",
       "1055          22.716667   7.583333                 0.841076  \n",
       "1096                NaN        NaN                 0.811847  \n",
       "1111          38.150000  11.950000                 0.181007  \n",
       "1143          34.616667   4.816667                 0.828400  \n",
       "1189          14.016667  17.950000                 0.633435  \n",
       "1355          83.150000   9.816667                 5.053266  \n",
       "1395          25.733333  32.400000                 1.012638  \n",
       "1493          13.233333  17.816667                 0.636527  \n",
       "1504           6.916667   8.316667                 0.428201  \n",
       "1591          50.133333   6.333333                 0.533198  \n",
       "1646          20.133333   7.333333                 0.719871  \n",
       "1704          18.316667  38.333333                 0.798432  \n",
       "\n",
       "[20 rows x 30 columns]"
      ]
     },
     "execution_count": 36,
     "metadata": {},
     "output_type": "execute_result"
    }
   ],
   "source": [
    "df.query(\"vehicle_type == 'van'\").head(20)"
   ]
  },
  {
   "cell_type": "markdown",
   "metadata": {},
   "source": [
    "It seems that regular meals are being delivered by trucks in small quantities, which is not optimal. Maybe Jumpman23 should try to implement a shared delivery system, where trucks, vans and cars pick items up in more than 1 place and deliver to multiple customers. In order for that to work, we need to verify if we have multiple orders in nearby pickup and dropoff places."
   ]
  },
  {
   "cell_type": "code",
   "execution_count": 37,
   "metadata": {},
   "outputs": [],
   "source": [
    "df.when_the_delivery_started = df.when_the_delivery_started.apply(lambda date: dt.strptime(date, '%Y-%m-%d %H:%M:%S.%f') if date==date else date)"
   ]
  },
  {
   "cell_type": "code",
   "execution_count": 38,
   "metadata": {},
   "outputs": [
    {
     "data": {
      "text/html": [
       "<div style=\"width:100%;\"><div style=\"position:relative;width:100%;height:0;padding-bottom:60%;\"><span style=\"color:#565656\">Make this Notebook Trusted to load map: File -> Trust Notebook</span><iframe src=\"about:blank\" style=\"position:absolute;width:100%;height:100%;left:0;top:0;border:none !important;\" data-html=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 onload=\"this.contentDocument.open();this.contentDocument.write(atob(this.getAttribute('data-html')));this.contentDocument.close();\" allowfullscreen webkitallowfullscreen mozallowfullscreen></iframe></div></div>"
      ],
      "text/plain": [
       "<folium.folium.Map at 0x1df6cc840c8>"
      ]
     },
     "execution_count": 38,
     "metadata": {},
     "output_type": "execute_result"
    }
   ],
   "source": [
    "start = dt.fromisoformat('2014-10-05 12:49:30')\n",
    "end = start + td(minutes=2)\n",
    "\n",
    "df_map = df.query(\"when_the_delivery_started >= @start and when_the_delivery_started <= @end\")\n",
    "\n",
    "pickups = df_map[['pickup_lat', 'pickup_lon']]\n",
    "pickup_list = pickups.values.tolist()\n",
    "dropoffs = df_map[['dropoff_lat', 'dropoff_lon']]\n",
    "dropoff_list = dropoffs.values.tolist()\n",
    "\n",
    "hmap = folium.Map(titles=\"A\", location=[df.pickup_lat.mean(), df.pickup_lon.mean()], zoom_start=12)\n",
    "\n",
    "for i in range(len(pickups)):\n",
    "    folium.Marker(pickup_list[i], icon=folium.Icon(color='green')).add_to(hmap)\n",
    "    folium.Marker(dropoff_list[i], icon=folium.Icon(color='red')).add_to(hmap)\n",
    "\n",
    "loc = 'Pickup and dropoff locations in a time window of 2 minutes'\n",
    "title_html = '''\n",
    "             <h3 align=\"center\" style=\"font-size:16px\"><b>{}</b></h3>\n",
    "             '''.format(loc)   \n",
    "hmap.get_root().html.add_child(folium.Element(title_html))\n",
    "hmap"
   ]
  },
  {
   "cell_type": "markdown",
   "metadata": {},
   "source": [
    "In the example above, we can see that 2 of the 3 pickup points in green are very close to each other in a time interval of 2 minutes (in an interval of 2 minutes, we started those 3 deliveries in the map). This means that there was an opportunity for a Jumpman to do multiple pickups and then drop the orders off in each dropoff location. Jumpan23 coould then implement an online routing system to assign multiple nearby pickup and dropoff points to drivers. The customer could wait 2 minutes for the routing algorithm to find other orders, for example."
   ]
  }
 ],
 "metadata": {
  "kernelspec": {
   "display_name": "Python 3",
   "language": "python",
   "name": "python3"
  },
  "language_info": {
   "codemirror_mode": {
    "name": "ipython",
    "version": 3
   },
   "file_extension": ".py",
   "mimetype": "text/x-python",
   "name": "python",
   "nbconvert_exporter": "python",
   "pygments_lexer": "ipython3",
   "version": "3.7.6"
  }
 },
 "nbformat": 4,
 "nbformat_minor": 4
}
